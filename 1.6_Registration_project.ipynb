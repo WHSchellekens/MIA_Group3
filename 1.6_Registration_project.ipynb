{
 "cells": [
  {
   "cell_type": "markdown",
   "metadata": {},
   "source": [
    "# Project 1: Image registration\n",
    "\n",
    "**Contents:** <br>\n",
    "\n",
    "- [Goal](#goal)<br>\n",
    "- [Deliverables](#deliverables)<br>\n",
    "- [Assessment](#assessment)<br>\n",
    "\n",
    "1. [Getting started](#getting_started)<br>\n",
    "   \n",
    "    1.1 [Dataset](#dataset)<br>\n",
    "    \n",
    "    1.2 [Selecting corresponding point pairs](#selecting_point_pairs)<br>\n",
    "    \n",
    "    \n",
    "2. [Point-based registration](#point-based_reg)<br>\n",
    "    \n",
    "    2.1 [Point-based affine image registration](#affine)<br>\n",
    "    \n",
    "    2.2 [Evaluation of point-based affine image registration](#evaluation)<br>\n",
    "    \n",
    "    \n",
    "3. [Intensity-based registration](#intensity-based_reg)<br>\n",
    "    \n",
    "    3.1 [Comparing the results of different registration methods](#comparison)<br>"
   ]
  },
  {
   "cell_type": "markdown",
   "metadata": {},
   "source": [
    "<div id=\"goal\"></div>\n",
    "\n",
    "<div style=\"float:right;margin:-5px 5px\"><img src=\"../reader/assets/read_ico.png\" width=\"42\" height=\"42\"></div> \n",
    "\n",
    "## Goal\n",
    "Develop Python code for point-based and intensity-based (medical) image registration. Use the developed code to perform image registration and evaluate and analyze the results.\n",
    "\n",
    "The dataset you will be using in the first mini-project originates from the [MRBrainS medical image analysis challenge](http://mrbrains13.isi.uu.nl/). It consists of 30 traverse slices of MR brain scans with two different sequences: T1-weighted and T2-FLAIR (5 patients $\\times$ 3 slices per patient $\\times$ 2 modalities). Please see the [Getting started](#getting_started) assignment below for more details on the dataset.\n",
    "\n",
    "<div id=\"deliverables\"></div>\n",
    "\n",
    "## Deliverables\n",
    "Code and a report describing your implementation, results and analysis. There is no hard limit for the length of the report, however, concise and short reports are **strongly** encouraged. Aim to present your most important findings in the main body of the report and (if needed) any additional information in an appendix. The following report structure is suggested for the main body of the report:\n",
    "\n",
    "1. Introduction\n",
    "2. Methods\n",
    "3. Results\n",
    "4. Discussion\n",
    "\n",
    "The introduction and result sections can be very brief in this case (e.g. half a page each). The discussion section should contain the analysis of the results. The report must be submitted as a single PDF file. The code must be submitted as a single archive file (e.g. zip or 7z) that is self-contained and can be used to reproduce the results in the report. \n",
    "\n",
    "Note that there is no single correct solution for the project. You have to demonstrate to the reader that you understand the methods that you have studied and can critically analyze the results of applying the methods. Below, you can find a set of assignments (guided project work) that will help you get started with the project work and, when correctly completed, will present you with a **minimal solution**. Solutions which go beyond these assignments are of course encouraged.\n",
    "\n",
    "<div id=\"assessment\"></div>\n",
    "\n",
    "## Assessment\n",
    "The rubric that will be used for assessment of the project work is given in [this table](https://github.com/tueimage/8dc00-mia/blob/master/rubric.md)"
   ]
  },
  {
   "cell_type": "code",
   "execution_count": null,
   "metadata": {},
   "outputs": [],
   "source": [
    "%load_ext autoreload\n",
    "%autoreload 2"
   ]
  },
  {
   "cell_type": "markdown",
   "metadata": {},
   "source": [
    "<div id=\"getting_started\"></div>\n",
    "<div style=\"float:right;margin:-5px 5px\"><img src=\"../reader/assets/read_ico.png\" width=\"42\" height=\"42\"></div> \n",
    "\n",
    "## 1. Getting started\n",
    "As an introduction, you will get familiar with the dataset that will be used in the first mini-project and the control point selection tool that can be used to annotate corresponding points in pairs of related images. The annotated points can later be used to perform point-based registration and evaluation of the registration error."
   ]
  },
  {
   "cell_type": "markdown",
   "metadata": {},
   "source": [
    "<div id=\"dataset\"></div>\n",
    "\n",
    "### 1.1 Dataset\n",
    "\n",
    "The image dataset is located in the [image_data](https://github.com/tueimage/8dc00-mia/tree/master/data/image_data) subfolder of the code for the registration exercises and project. The image filenames have the following format: `{Patient ID}_{Slice ID}_{Sequence}.tif`. For example, the filename `3_2_t1.tif` is the second slice from a T1-weighted scan of the third patient. Every T1 slice comes in two versions: original and transformed with some random transformation that can be identified with the `_d` suffix in the filename. This simulates a registration problem where you have to register two image acquisitions of the same patient (note however that some of the transformations that were used to simulate the second set of images are not realistic for brain imaging, e.g. brain scans typically do not encounter shearing between consecutive acquisitions).\n",
    "\n",
    "<div style=\"float:right;margin:-5px 5px\"><img src=\"../reader/assets/question_ico.png\" width=\"42\" height=\"42\"></div> \n",
    "\n",
    "### *Question 1*:\n",
    "\n",
    "With this dataset we can define two image registration problems: T1 to T1 registration (e.g. register `3_2_t1_d.tif` to `3_2_t1.tif`) and T2 to T1 registration (e.g. register `3_2_t2.tif` to `3_2_t1.tif`). Which one of these can be considered inter-modal image registration and which one intra-modal image registration?\n"
   ]
  },
  {
   "cell_type": "code",
   "execution_count": null,
   "metadata": {},
   "outputs": [],
   "source": [
    "#The first one, so 3_d_t1.tif and 3_2_t1_d.tif is intra-modal because this is the same modality is used.\n",
    "#the other ones are inter modal because it is t1 wieghted and t2 weighted so different modalities.\n"
   ]
  },
  {
   "cell_type": "markdown",
   "metadata": {},
   "source": [
    "<div id=\"selecting_point_pairs\"></div>\n",
    "\n",
    "### 1.2 Selecting corresponding point pairs\n",
    "\n",
    "A function called `cpselect` is provided to select control points in two different images. This function provides two numpy arrays of cartesian coordinates, one array for each image, of points selected in the two images. The coordinate format is a numpy array with the X and Y on row 0 and 1 respectively, and each column being a point.\n",
    "\n",
    "Calling the function will cause a new interactive window to pop up, where you will see your two images and some instructions.\n",
    "For convenience, the instructions can also be found below:\n",
    "\n",
    "* First select a point in Image 1 and then its corresponding point in Image 2. This pattern should be repeated for as many control points as you need. If you do not follow this pattern, the output arrays will be incorrect.\n",
    "* Left Mouse Button to create a point. \n",
    "* Right Mouse Button/Delete/Backspace to remove the newest point. \n",
    "* Middle Mouse Button/Enter to finish placing points. "
   ]
  },
  {
   "cell_type": "markdown",
   "metadata": {},
   "source": [
    "<div style=\"float:right;margin:-5px 5px\"><img src=\"../reader/assets/todo_ico.png\" width=\"42\" height=\"42\"></div> \n",
    "\n",
    "### *Task 1*:\n",
    "\n",
    "Test the functionality of `cpselect` by running the following code example:"
   ]
  },
  {
   "cell_type": "code",
   "execution_count": null,
   "metadata": {
    "scrolled": false
   },
   "outputs": [],
   "source": [
    "import sys\n",
    "sys.path.append(\"../code\")\n",
    "import registration_util as util\n",
    "\n",
    "I_path = '../data/image_data/1_1_t1.tif'\n",
    "Im_path = '../data/image_data/1_1_t1_d.tif'\n",
    "\n",
    "X, Xm = util.cpselect(I_path, Im_path)\n",
    "\n",
    "print('X:\\n{}'.format(X))\n",
    "print('Xm:\\n{}'.format(Xm))"
   ]
  },
  {
   "cell_type": "markdown",
   "metadata": {},
   "source": [
    "<div id=\"point-based_reg\"></div>\n",
    "\n",
    "## 2. Point-based registration\n",
    "\n",
    "<div style=\"float:right;margin:-5px 5px\"><img src=\"../reader/assets/todo_ico.png\" width=\"42\" height=\"42\"></div> \n",
    "\n",
    "<div id=\"affine\"></div>\n",
    "\n",
    "### 2.1 Point-based affine image registration\n",
    "\n",
    "From the provided dataset for this project, select one pair of T1 image slices (e.g. `3_2_t1.tif` and `3_2_t1_d.tif`) and use `my_cpselect` to select a set of corresponding points. Then, compute the affine transformation between the pair of images with `ls_affine` and apply it to the moving image using `image_transform`. \n",
    "\n",
    "Repeat the same for a pair of corresponding T1 and T2 slices (e.g. `3_2_t1.tif` and `3_2_t2.tif`)."
   ]
  },
  {
   "cell_type": "code",
   "execution_count": null,
   "metadata": {},
   "outputs": [],
   "source": [
    "import sys\n",
    "sys.path.append(\"../code\")\n",
    "import registration_util as util\n",
    "#create the path for the fixed and moving images\n",
    "I_path = '../data/image_data/3_3_t1.tif'\n",
    "Im_path = '../data/image_data/3_3_t2.tif'\n",
    "\n",
    "#Pick the registration points\n",
    "X_2, Xm_2 = util.cpselect(I_path, Im_path)\n",
    "\n"
   ]
  },
  {
   "cell_type": "code",
   "execution_count": null,
   "metadata": {},
   "outputs": [],
   "source": [
    "%matplotlib inline\n",
    "import sys\n",
    "import numpy as np\n",
    "import matplotlib.pyplot as plt\n",
    "from registration import ls_affine, image_transform, correlation, mutual_information, joint_histogram\n",
    "\n",
    "#Compute the transformation matrix with the least square affine method (code in registration) with the registration points\n",
    "T=ls_affine(X_2,Xm_2)\n",
    "\n",
    "#Read the images to transform and compare them\n",
    "I_m=plt.imread(Im_path)\n",
    "I=plt.imread(I_path)\n",
    "\n",
    "#Transform the moving image with the transformation matrix T (calculated above)\n",
    "I_m= image_transform(I_m, T)[0]\n",
    "\n",
    "#plot the moved and fixed image\n",
    "fig = plt.figure(figsize=(12,5))\n",
    "ax1 = fig.add_subplot(131)\n",
    "im11 = ax1.imshow(I)\n",
    "ax2 = fig.add_subplot(132)\n",
    "im21 = ax2.imshow(I_m)\n",
    "\n",
    "\n",
    "#Print and compute the mutual information and the normalized cross correlation of the fixed and moved image\n",
    "print(mutual_information(joint_histogram(I,I_m)), correlation(I,I_m)[0][0])\n",
    "\n"
   ]
  },
  {
   "cell_type": "code",
   "execution_count": null,
   "metadata": {},
   "outputs": [],
   "source": [
    "#pick target points\n",
    "X_2_t, X_2_t_m = util.cpselect_target(I, I_m)\n"
   ]
  },
  {
   "cell_type": "code",
   "execution_count": null,
   "metadata": {},
   "outputs": [],
   "source": [
    "#Compute the target registration error \n",
    "#loop over the number of target points taken and compute the error per point and add them to eachother\n",
    "for i in range(len(X_2_t[0])):\n",
    "    TRE += np.linalg.norm((np.subtract(np.array([[X_2_t[0][i]],[X_2_t[1][i]]]),np.array([[X_2_t_m[0][i]],[X_2_t_m[1][i]]]))))**2\n",
    "\n",
    "#compute the mean target registration error\n",
    "TRE=TRE/len(X_2_t[0])\n",
    "print(TRE)"
   ]
  },
  {
   "cell_type": "markdown",
   "metadata": {},
   "source": [
    "<div id=\"evaluation\"></div>\n",
    "\n",
    "### 2.2 Evaluation of point-based affine image registration\n",
    "\n",
    "<div style=\"float:right;margin:-5px 5px\"><img src=\"../reader/assets/question_ico.png\" width=\"42\" height=\"42\"></div> \n",
    "\n",
    "### *Question 2*:\n",
    "Describe how you would estimate the registration error. (Hint: Should you use the same points that you used for computing the affine transformation to also compute the registration error?) How does the number of corresponding point pairs affect the registration error? Motivate all your answers."
   ]
  },
  {
   "cell_type": "code",
   "execution_count": null,
   "metadata": {},
   "outputs": [],
   "source": [
    "# I would pick random points in the figure, not close to the registration points. \n",
    "# And compare these points and the location of these points in the other/moved image. I would not pick the same points\n",
    "# because these are used to allign so these are the best alligned points of all probably. "
   ]
  },
  {
   "cell_type": "markdown",
   "metadata": {},
   "source": [
    "<div id=\"intensity-based_reg\"></div>\n",
    "\n",
    "## 3. Intensity-based registration\n",
    "\n",
    "<div style=\"float:right;margin:-5px 5px\"><img src=\"../reader/assets/todo_ico.png\" width=\"42\" height=\"42\"></div> \n",
    "\n",
    "<div id=\"comparison\"></div>\n",
    "\n",
    "### 3.1 Comparing the results of different registration methods\n",
    "\n",
    "The following Python script (provided as `intensity_based_registration_demo()`) performs rigid intensity-based registration of two images using the normalized-cross correlation as a similarity metric:"
   ]
  },
  {
   "cell_type": "code",
   "execution_count": null,
   "metadata": {},
   "outputs": [],
   "source": [
    "%matplotlib inline\n",
    "import sys\n",
    "sys.path.append(\"../code\")\n",
    "import matplotlib.pyplot as plt\n",
    "from registration_project_1 import intensity_based_registration_demo\n",
    "#read the images and plot them\n",
    "I= plt.imread('../data/image_data/1_1_t1.tif')\n",
    "Im =plt.imread( '../data/image_data/1_1_t1_d.tif')\n",
    "#perform the intensity based registration with the arguments: first image, second image, the method: 'affine' or 'rigid', \n",
    "# the check: 'MI' or 'CNN' (normalized cross correlation), lr(learning rate): float\n",
    "intensity_based_registration_demo(I, Im, 'affine','MI', 0.0001)"
   ]
  },
  {
   "cell_type": "markdown",
   "metadata": {},
   "source": [
    "<div style=\"float:right;margin:-5px 5px\"><img src=\"../reader/assets/todo_ico.png\" width=\"42\" height=\"42\"></div> \n",
    "\n",
    "### *Task 2*:\n",
    "\n",
    "By changing the similarity function and the initial parameter vector, you can also use this script to perform affine registration and use mutual information as a similarity measure. Do not forget to also change the transformation for the visualization of the results.\n",
    "\n",
    "Using the provided dataset and the functions that you have implemented in the exercises, perform the following series of experiments:\n",
    "\n",
    "1. Rigid intensity-based registration of two T1 slices (e.g. `1_1_t1.tif` and `1_1_t1_d.tif`) using normalized cross-correlation as a similarity measure.\n",
    "2. Affine intensity-based registration of two T1 slices (e.g. `1_1_t1.tif` and `1_1_t1_d.tif`) using normalized cross-correlation as a similarity measure.\n",
    "3. Affine intensity-based registration of a T1 and a T2 slice (e.g. `1_1_t1.tif` and `1_1_t2.tif`) using normalized cross-correlation as a similarity measure.\n",
    "4. Affine intensity-based registration of two T1 slices (e.g. `1_1_t1.tif` and `1_1_t1_d.tif`) using mutual information as a similarity measure.\n",
    "5. Affine intensity-based registration of a T1 slice and a T2 slice (e.g. `1_1_t1.tif` and `1_1_t2.tif`) using mutual information as a similarity measure.\n",
    "\n",
    "Describe, analyze and compare the results from each experiment. If a method fails, describe why you think it fails. Note that you will most likely have to try different values for the learning rate in each experiment in order to find the one that works best. "
   ]
  },
  {
   "cell_type": "code",
   "execution_count": null,
   "metadata": {},
   "outputs": [],
   "source": [
    "%matplotlib inline\n",
    "import sys\n",
    "import numpy as np\n",
    "import matplotlib.pyplot as plt\n",
    "sys.path.append(\"../code\")\n",
    "from registration import rigid_corr, affine_corr, affine_mi, image_transform, rotate, scale, shear\n",
    "import registration_util as util\n",
    "\n",
    "#Create the paths to the used images\n",
    "I1_path = '../data/image_data/1_1_t1.tif'\n",
    "Im1_d_path = '../data/image_data/1_1_t1_d.tif'\n",
    "Im1_t2_path='../data/image_data/1_1_t2.tif'\n",
    "I3_path = '../data/image_data/3_3_t1.tif'\n",
    "Im3_d_path = '../data/image_data/3_3_t1_d.tif'\n",
    "Im3_t2_path='../data/image_data/3_3_t2.tif'\n",
    "\n",
    "#read the images to perform calculations\n",
    "I1= plt.imread(I1_path)\n",
    "Im1_d= plt.imread(Im1_d_path)\n",
    "Im1_t2= plt.imread(Im1_t2_path)\n",
    "I3= plt.imread(I3_path)\n",
    "Im3_d= plt.imread(Im3_d_path)\n",
    "Im3_t2= plt.imread(Im3_t2_path)\n",
    "\n",
    "#create a homogeneous transformation matrix with the x-variables came from the intensity based experiments\n",
    "# fill in x the variables for the transformation came from intensity based registration\n",
    "x=[0., 1., 1., 0.051, -0.061, -0.069, -0.066]\n",
    "SCALING = 100\n",
    "T = rotate(x[0])\n",
    "T = scale(x[1],x[2])\n",
    "T = shear(x[3],x[4])\n",
    "Th = util.t2h(T, x[5:]*SCALING)\n",
    "\n",
    "\n",
    "#Compute the transformation of the moved image\n",
    "Im=image_transform(Im3_t2, Th)[0]\n",
    "\n",
    "\n",
    "#Pick target points on the moved and fixed image\n",
    "X_2_t, X_2_t_m = util.cpselect_target(I3, Im)\n",
    "\n",
    "#Compute the target registration error \n",
    "#loop over the number of target points taken and compute the error per point and add them to eachother\n",
    "for i in range(len(X_2_t[0])):\n",
    "    TRE += np.linalg.norm((np.subtract(np.array([[X_2_t[0][i]],[X_2_t[1][i]]]),np.array([[X_2_t_m[0][i]],[X_2_t_m[1][i]]]))))**2\n",
    "\n",
    "#compute the mean target registration error\n",
    "TRE=TRE/len(X_2_t[0])\n",
    "print(TRE)\n",
    "\n",
    "\n",
    "#Compute the mutual information and cross correlation of the different experiments, with the affine and rigid values \n",
    "#computed with the computations of the registration methods above. these are found in x and stand above, do this also\n",
    "#for the images of patient 3\n",
    "task2_1= rigid_corr(I1,Im1_d,x)[0]\n",
    "task2_2= affine_corr(I1,Im1_d,x)[0]\n",
    "task2_3= affine_corr(I1,Im1_t2,x)[0]\n",
    "task2_4= affine_mi(I1,Im1_d,x)[0]\n",
    "task2_5= affine_mi(I1,Im1_t2,x)[0]\n",
    "\n"
   ]
  },
  {
   "cell_type": "code",
   "execution_count": null,
   "metadata": {},
   "outputs": [],
   "source": [
    "\"\"\"Using a variable learning rate (mu)\"\"\"\n",
    "\n",
    "%matplotlib inline\n",
    "import sys\n",
    "import numpy as np\n",
    "sys.path.append(\"../code\")\n",
    "import matplotlib.pyplot as plt\n",
    "from registration_project_final import intensity_based_registration_demo, intensity_based_registration_variablelr\n",
    "from registration import rigid_corr, affine_corr, affine_mi, image_transform, rotate, scale, shear\n",
    "import registration_util as util\n",
    "\n",
    "#read the images\n",
    "I= plt.imread('../data/image_data/1_1_t1.tif')\n",
    "Im =plt.imread( '../data/image_data/1_1_t1_d.tif')\n",
    "\n",
    "method = 'affine'\n",
    "check = 'MI'\n",
    "\n",
    "#perform the intensity based registration with the arguments: first image, second image, the method: 'affine' or 'rigid', \n",
    "# the check: 'MI' or 'CNN' (normalized cross correlation): float\n",
    "similarity, x_array = intensity_based_registration_variablelr(I, Im, method, check)"
   ]
  },
  {
   "cell_type": "code",
   "execution_count": null,
   "metadata": {},
   "outputs": [],
   "source": [
    "\"\"\"Calculate TRE for the variable learning rate registration\"\"\"\n",
    "\n",
    "# find index where the NCC or MI is highest\n",
    "index, _ = np.where(similarity == max(similarity))\n",
    "index = index[0]\n",
    "\n",
    "# pick registration vector where similarity was highest\n",
    "x = (x_array[index])\n",
    "\n",
    "# compute the transformation of the moved image\n",
    "if (check == 'NCC') and (method == 'rigid'):\n",
    "    _, Im_t, _ = rigid_corr(I, Im, x, return_transform=True)\n",
    "elif (check == 'NCC') and (method == 'affine'):\n",
    "    _, Im_t, _ = affine_corr(I, Im, x, return_transform=True)\n",
    "elif (check == 'MI') and (method == 'affine'):\n",
    "    _, Im_t, _ = affine_mi(I, Im, x, return_transform=True)\n",
    "    \n",
    "    \n",
    "# pick target points on the moved and fixed image\n",
    "X_2_t, X_2_t_m = util.cpselect_target(I, Im_t)\n",
    "\n",
    "#Compute the target registration error \n",
    "#loop over the number of target points taken and compute the error per point and add them to eachother\n",
    "TRE = 0\n",
    "for i in range(len(X_2_t[0])):\n",
    "    TRE += np.linalg.norm((np.subtract(np.array([[X_2_t[0][i]],[X_2_t[1][i]]]),np.array([[X_2_t_m[0][i]],[X_2_t_m[1][i]]]))))**2\n",
    "\n",
    "#compute the mean target registration error\n",
    "TRE=TRE/len(X_2_t[0])\n",
    "print(TRE)"
   ]
  }
 ],
 "metadata": {
  "hide_input": false,
  "interpreter": {
   "hash": "7cf3cfb4d2a53586223bf4603cd7f9e645cf44a77dbcec96182c9a81e54296ad"
  },
  "kernelspec": {
   "display_name": "Python 3 (ipykernel)",
   "language": "python",
   "name": "python3"
  },
  "language_info": {
   "codemirror_mode": {
    "name": "ipython",
    "version": 3
   },
   "file_extension": ".py",
   "mimetype": "text/x-python",
   "name": "python",
   "nbconvert_exporter": "python",
   "pygments_lexer": "ipython3",
   "version": "3.8.11"
  }
 },
 "nbformat": 4,
 "nbformat_minor": 4
}
